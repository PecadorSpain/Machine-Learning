{
  "nbformat": 4,
  "nbformat_minor": 0,
  "metadata": {
    "colab": {
      "name": "Predicción E-Sports (lol).ipynb",
      "provenance": [],
      "authorship_tag": "ABX9TyNOQBSIfKBcQC2nu5k/G4YW",
      "include_colab_link": true
    },
    "kernelspec": {
      "name": "python3",
      "display_name": "Python 3"
    },
    "language_info": {
      "name": "python"
    }
  },
  "cells": [
    {
      "cell_type": "markdown",
      "metadata": {
        "id": "view-in-github",
        "colab_type": "text"
      },
      "source": [
        "<a href=\"https://colab.research.google.com/github/PecadorSpain/Machine-Learning/blob/main/Predicci%C3%B3n_E_Sports_(lol).ipynb\" target=\"_parent\"><img src=\"https://colab.research.google.com/assets/colab-badge.svg\" alt=\"Open In Colab\"/></a>"
      ]
    },
    {
      "cell_type": "code",
      "execution_count": null,
      "metadata": {
        "id": "-yCy_bdbCt1d"
      },
      "outputs": [],
      "source": [
        "import pandas as pd\n",
        "import math\n",
        "import csv\n",
        "import random\n",
        "import numpy as np\n",
        "from sklearn import linear_model\n",
        "from sklearn.model_selection import cross_val_score\n",
        "\n",
        "base elo = 1600\n",
        "team_elos = {} \n",
        "team_stats = {}\n",
        "X = []\n",
        "y = []\n",
        "folder = 'data' "
      ]
    }
  ]
}