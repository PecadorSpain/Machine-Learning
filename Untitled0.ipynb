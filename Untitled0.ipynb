{
  "nbformat": 4,
  "nbformat_minor": 0,
  "metadata": {
    "colab": {
      "name": "Untitled0.ipynb",
      "provenance": [],
      "authorship_tag": "ABX9TyMRG5VWuCNV5NEy9Cj9UmIc",
      "include_colab_link": true
    },
    "kernelspec": {
      "name": "python3",
      "display_name": "Python 3"
    },
    "language_info": {
      "name": "python"
    }
  },
  "cells": [
    {
      "cell_type": "markdown",
      "metadata": {
        "id": "view-in-github",
        "colab_type": "text"
      },
      "source": [
        "<a href=\"https://colab.research.google.com/github/PecadorSpain/Machine-Learning/blob/main/Untitled0.ipynb\" target=\"_parent\"><img src=\"https://colab.research.google.com/assets/colab-badge.svg\" alt=\"Open In Colab\"/></a>"
      ]
    },
    {
      "cell_type": "code",
      "execution_count": null,
      "metadata": {
        "colab": {
          "base_uri": "https://localhost:8080/"
        },
        "id": "XWUzQj-V9Upb",
        "outputId": "9f9f9ac6-1e0c-454c-c666-d443f84e154a"
      },
      "outputs": [
        {
          "output_type": "stream",
          "name": "stdout",
          "text": [
            "0.2992853430401169\n",
            "0.3548220387441794\n",
            "0.41655748348836485\n",
            "0.5829618402141552\n",
            "0.4173687009133624\n",
            "0.3061803780680393\n",
            "0.27912122603293177\n",
            "0.7684010420861143\n",
            "Basándonos en exámenes anteriores, vas a sacar aprox: \n",
            "[5.94212259]\n"
          ]
        }
      ],
      "source": [
        "import numpy as np \n",
        "from sklearn.neural_network import MLPRegressor\n",
        "from sklearn.model_selection import train_test_split\n",
        " \n",
        "#x= [0,4,8,12,16,20,24,28,32,36,40,44,48,52,56,60,64,68,72,76,80,84,88,92,96,100,104,108,112,116,120,124,128,132,136,140]\n",
        "#y= [5,10,14,19,24,28,33,38,42,47,52,56,61,65,70,74,78,82,84,87,89,90,92,93,94,95,96,97,97,98,98,98,99,99,99,100]\n",
        "tiempo = [0,4,8,12,14,16,20,24,28,32,36,40,44,48,52,56,60,64,68,72,76,80,84,88,92,96,100,104,108,112,116,120,124,128,132,135,136,2,170,173]\n",
        "nota = [0,0,0.5,0.5,6.7,1,1,2.2,3,2,2.8,3.5,3.7,4,5,5.5,6,3,6,6,6,7,7.2,8,6.9,7,7.4,7.5,7,8,8.2,8.5,4.2,9,4.3,7.2,2,9.3,7,10]\n",
        " \n",
        "x = tiempo\n",
        "y = nota\n",
        " \n",
        "x = mean_data = np.array(x)\n",
        "X=x[:,np.newaxis]\n",
        " \n",
        "while True:\n",
        "    X_train, X_test, y_train, y_test = train_test_split(X, y)\n",
        "    mlr=MLPRegressor(solver=\"lbfgs\",alpha=1e-5,hidden_layer_sizes=(3,3), random_state=1)\n",
        "    mlr.fit(X_train, y_train)\n",
        "    print(mlr.score(X_train, y_train))\n",
        "    if mlr.score(X_train,y_train) > 0.7:\n",
        "        break\n",
        " \n",
        "print(\"Basándonos en exámenes anteriores, vas a sacar aprox: \")\n",
        "print(mlr.predict(np.array(70).reshape(1, 1)))\n",
        "#print(mlr.predict(np.array(73).reshape(1, 1)))\n",
        "\n"
      ]
    }
  ]
}